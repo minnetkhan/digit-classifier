{
  "nbformat": 4,
  "nbformat_minor": 0,
  "metadata": {
    "colab": {
      "name": "MNIST.ipynb",
      "provenance": []
    },
    "kernelspec": {
      "name": "python3",
      "display_name": "Python 3"
    },
    "accelerator": "GPU"
  },
  "cells": [
    {
      "cell_type": "code",
      "metadata": {
        "colab": {
          "base_uri": "https://localhost:8080/"
        },
        "id": "MnqZrjdP0nHT",
        "outputId": "81812c40-e67f-4777-faf8-48fa14e82eb8"
      },
      "source": [
        "# mounting google drive\n",
        "from google.colab import drive\n",
        "drive.mount('/content/drive')\n",
        "%cd 'drive'/'My Drive'/"
      ],
      "execution_count": 1,
      "outputs": [
        {
          "output_type": "stream",
          "text": [
            "Mounted at /content/drive\n",
            "/content/drive/My Drive\n"
          ],
          "name": "stdout"
        }
      ]
    },
    {
      "cell_type": "code",
      "metadata": {
        "id": "hrodk5ImoClm"
      },
      "source": [
        "import pandas as pd\n",
        "import numpy as np\n",
        "import random\n",
        "import matplotlib.pyplot as plt\n",
        "import datetime"
      ],
      "execution_count": 2,
      "outputs": []
    },
    {
      "cell_type": "code",
      "metadata": {
        "id": "0AGNVPUqoEbi"
      },
      "source": [
        "import tensorflow as tf\n",
        "\n",
        "from tensorflow.keras.utils import to_categorical\n",
        "from tensorflow.keras.models import Sequential\n",
        "from tensorflow.keras.layers import Dense, Conv2D, Dropout, Flatten"
      ],
      "execution_count": 3,
      "outputs": []
    },
    {
      "cell_type": "code",
      "metadata": {
        "colab": {
          "base_uri": "https://localhost:8080/"
        },
        "id": "5Y5hM8OcoORi",
        "outputId": "ff87b583-9c7b-4d44-d4a7-e21615726c83"
      },
      "source": [
        "(x_train, y_train), (x_test, y_test) = tf.keras.datasets.mnist.load_data(path='mnist.npz')"
      ],
      "execution_count": 4,
      "outputs": [
        {
          "output_type": "stream",
          "text": [
            "Downloading data from https://storage.googleapis.com/tensorflow/tf-keras-datasets/mnist.npz\n",
            "11493376/11490434 [==============================] - 0s 0us/step\n"
          ],
          "name": "stdout"
        }
      ]
    },
    {
      "cell_type": "code",
      "metadata": {
        "colab": {
          "base_uri": "https://localhost:8080/",
          "height": 914
        },
        "id": "rMPkw_wurZdj",
        "outputId": "3407b603-fe44-44fc-c2cf-cda80df8ff47"
      },
      "source": [
        "for i in range(3):\n",
        "  rnd = random.randint(0, 30000)\n",
        "  print(\"label: \", y_train[rnd])\n",
        "  plt.imshow(x_train[rnd])\n",
        "  plt.show()\n",
        "  print(\"*******************************\\n\")"
      ],
      "execution_count": 6,
      "outputs": [
        {
          "output_type": "stream",
          "text": [
            "label:  0\n"
          ],
          "name": "stdout"
        },
        {
          "output_type": "display_data",
          "data": {
            "image/png": "[encoded data removed]",
            "text/plain": [
              "<Figure size 432x288 with 1 Axes>"
            ]
          },
          "metadata": {
            "tags": [],
            "needs_background": "light"
          }
        },
        {
          "output_type": "stream",
          "text": [
            "*******************************\n",
            "\n",
            "label:  6\n"
          ],
          "name": "stdout"
        },
        {
          "output_type": "display_data",
          "data": {
            "image/png": "[encoded data removed]",
            "text/plain": [
              "<Figure size 432x288 with 1 Axes>"
            ]
          },
          "metadata": {
            "tags": [],
            "needs_background": "light"
          }
        },
        {
          "output_type": "stream",
          "text": [
            "*******************************\n",
            "\n",
            "label:  8\n"
          ],
          "name": "stdout"
        },
        {
          "output_type": "display_data",
          "data": {
            "image/png": "[encoded data removed]",
            "text/plain": [
              "<Figure size 432x288 with 1 Axes>"
            ]
          },
          "metadata": {
            "tags": [],
            "needs_background": "light"
          }
        },
        {
          "output_type": "stream",
          "text": [
            "*******************************\n",
            "\n"
          ],
          "name": "stdout"
        }
      ]
    },
    {
      "cell_type": "code",
      "metadata": {
        "id": "vVDlAH1eo4sw"
      },
      "source": [
        "X = x_train.copy().reshape(-1, 28, 28, 1)\n",
        "y = y_train.copy()"
      ],
      "execution_count": 7,
      "outputs": []
    },
    {
      "cell_type": "code",
      "metadata": {
        "id": "PmMHdk8bpz89"
      },
      "source": [
        "X = X/255.0\n",
        "y = to_categorical(y, num_classes=10)"
      ],
      "execution_count": 8,
      "outputs": []
    },
    {
      "cell_type": "code",
      "metadata": {
        "id": "KzF47cmRp_rB"
      },
      "source": [
        "model = Sequential()\n",
        "model.add(Conv2D(filters=64, kernel_size=(5, 5), activation=\"relu\", input_shape=X.shape[1:]))\n",
        "model.add(Conv2D(filters=32, kernel_size=(3, 3), activation=\"relu\"))\n",
        "\n",
        "model.add(Dropout(0.5))\n",
        "\n",
        "model.add(Conv2D(filters=32, kernel_size=(3, 3), activation=\"relu\"))\n",
        "model.add(Conv2D(filters=16, kernel_size=(3, 3), activation=\"relu\"))\n",
        "\n",
        "model.add(Flatten())\n",
        "\n",
        "model.add(Dense(10, activation=\"softmax\"))\n",
        "\n",
        "model.compile(optimizer=\"adam\", loss=\"categorical_crossentropy\", metrics=[\"accuracy\"])"
      ],
      "execution_count": 9,
      "outputs": []
    },
    {
      "cell_type": "code",
      "metadata": {
        "colab": {
          "base_uri": "https://localhost:8080/"
        },
        "id": "YjS_NXlQqqs9",
        "outputId": "a1d776b9-78e0-494a-cb0f-266e8b048743"
      },
      "source": [
        "history = model.fit(X, y, epochs=50, validation_split=0.3)"
      ],
      "execution_count": 10,
      "outputs": [
        {
          "output_type": "stream",
          "text": [
            "Epoch 1/50\n",
            "1313/1313 [==============================] - 14s 5ms/step - loss: 0.3487 - accuracy: 0.8903 - val_loss: 0.0728 - val_accuracy: 0.9793\n",
            "Epoch 2/50\n",
            "1313/1313 [==============================] - 6s 5ms/step - loss: 0.0658 - accuracy: 0.9787 - val_loss: 0.0712 - val_accuracy: 0.9796\n",
            "Epoch 3/50\n",
            "1313/1313 [==============================] - 6s 5ms/step - loss: 0.0508 - accuracy: 0.9832 - val_loss: 0.0570 - val_accuracy: 0.9849\n",
            "Epoch 4/50\n",
            "1313/1313 [==============================] - 6s 5ms/step - loss: 0.0401 - accuracy: 0.9877 - val_loss: 0.0498 - val_accuracy: 0.9857\n",
            "Epoch 5/50\n",
            "1313/1313 [==============================] - 6s 5ms/step - loss: 0.0283 - accuracy: 0.9905 - val_loss: 0.0586 - val_accuracy: 0.9835\n",
            "Epoch 6/50\n",
            "1313/1313 [==============================] - 6s 5ms/step - loss: 0.0263 - accuracy: 0.9913 - val_loss: 0.0556 - val_accuracy: 0.9861\n",
            "Epoch 7/50\n",
            "1313/1313 [==============================] - 6s 5ms/step - loss: 0.0234 - accuracy: 0.9920 - val_loss: 0.0533 - val_accuracy: 0.9868\n",
            "Epoch 8/50\n",
            "1313/1313 [==============================] - 6s 5ms/step - loss: 0.0178 - accuracy: 0.9942 - val_loss: 0.0582 - val_accuracy: 0.9856\n",
            "Epoch 9/50\n",
            "1313/1313 [==============================] - 6s 5ms/step - loss: 0.0140 - accuracy: 0.9957 - val_loss: 0.0765 - val_accuracy: 0.9844\n",
            "Epoch 10/50\n",
            "1313/1313 [==============================] - 6s 5ms/step - loss: 0.0149 - accuracy: 0.9949 - val_loss: 0.0610 - val_accuracy: 0.9868\n",
            "Epoch 11/50\n",
            "1313/1313 [==============================] - 6s 5ms/step - loss: 0.0118 - accuracy: 0.9959 - val_loss: 0.0862 - val_accuracy: 0.9832\n",
            "Epoch 12/50\n",
            "1313/1313 [==============================] - 6s 5ms/step - loss: 0.0133 - accuracy: 0.9954 - val_loss: 0.0613 - val_accuracy: 0.9876\n",
            "Epoch 13/50\n",
            "1313/1313 [==============================] - 6s 5ms/step - loss: 0.0094 - accuracy: 0.9967 - val_loss: 0.0749 - val_accuracy: 0.9862\n",
            "Epoch 14/50\n",
            "1313/1313 [==============================] - 6s 5ms/step - loss: 0.0099 - accuracy: 0.9968 - val_loss: 0.0773 - val_accuracy: 0.9852\n",
            "Epoch 15/50\n",
            "1313/1313 [==============================] - 6s 5ms/step - loss: 0.0084 - accuracy: 0.9971 - val_loss: 0.0750 - val_accuracy: 0.9868\n",
            "Epoch 16/50\n",
            "1313/1313 [==============================] - 6s 5ms/step - loss: 0.0087 - accuracy: 0.9970 - val_loss: 0.0725 - val_accuracy: 0.9876\n",
            "Epoch 17/50\n",
            "1313/1313 [==============================] - 6s 5ms/step - loss: 0.0060 - accuracy: 0.9984 - val_loss: 0.0855 - val_accuracy: 0.9877\n",
            "Epoch 18/50\n",
            "1313/1313 [==============================] - 6s 5ms/step - loss: 0.0076 - accuracy: 0.9977 - val_loss: 0.0914 - val_accuracy: 0.9855\n",
            "Epoch 19/50\n",
            "1313/1313 [==============================] - 6s 5ms/step - loss: 0.0088 - accuracy: 0.9970 - val_loss: 0.0901 - val_accuracy: 0.9862\n",
            "Epoch 20/50\n",
            "1313/1313 [==============================] - 6s 5ms/step - loss: 0.0056 - accuracy: 0.9983 - val_loss: 0.0959 - val_accuracy: 0.9853\n",
            "Epoch 21/50\n",
            "1313/1313 [==============================] - 6s 5ms/step - loss: 0.0072 - accuracy: 0.9976 - val_loss: 0.0939 - val_accuracy: 0.9854\n",
            "Epoch 22/50\n",
            "1313/1313 [==============================] - 6s 5ms/step - loss: 0.0074 - accuracy: 0.9981 - val_loss: 0.0902 - val_accuracy: 0.9867\n",
            "Epoch 23/50\n",
            "1313/1313 [==============================] - 6s 5ms/step - loss: 0.0048 - accuracy: 0.9985 - val_loss: 0.0959 - val_accuracy: 0.9856\n",
            "Epoch 24/50\n",
            "1313/1313 [==============================] - 6s 5ms/step - loss: 0.0073 - accuracy: 0.9978 - val_loss: 0.1043 - val_accuracy: 0.9861\n",
            "Epoch 25/50\n",
            "1313/1313 [==============================] - 6s 5ms/step - loss: 0.0097 - accuracy: 0.9971 - val_loss: 0.1005 - val_accuracy: 0.9872\n",
            "Epoch 26/50\n",
            "1313/1313 [==============================] - 6s 5ms/step - loss: 0.0059 - accuracy: 0.9982 - val_loss: 0.1128 - val_accuracy: 0.9852\n",
            "Epoch 27/50\n",
            "1313/1313 [==============================] - 6s 5ms/step - loss: 0.0097 - accuracy: 0.9968 - val_loss: 0.0825 - val_accuracy: 0.9878\n",
            "Epoch 28/50\n",
            "1313/1313 [==============================] - 6s 5ms/step - loss: 0.0047 - accuracy: 0.9984 - val_loss: 0.1038 - val_accuracy: 0.9848\n",
            "Epoch 29/50\n",
            "1313/1313 [==============================] - 6s 5ms/step - loss: 0.0054 - accuracy: 0.9984 - val_loss: 0.0906 - val_accuracy: 0.9861\n",
            "Epoch 30/50\n",
            "1313/1313 [==============================] - 6s 5ms/step - loss: 0.0062 - accuracy: 0.9980 - val_loss: 0.0999 - val_accuracy: 0.9858\n",
            "Epoch 31/50\n",
            "1313/1313 [==============================] - 6s 5ms/step - loss: 0.0049 - accuracy: 0.9983 - val_loss: 0.1073 - val_accuracy: 0.9850\n",
            "Epoch 32/50\n",
            "1313/1313 [==============================] - 6s 5ms/step - loss: 0.0069 - accuracy: 0.9984 - val_loss: 0.1038 - val_accuracy: 0.9864\n",
            "Epoch 33/50\n",
            "1313/1313 [==============================] - 6s 5ms/step - loss: 0.0042 - accuracy: 0.9987 - val_loss: 0.1254 - val_accuracy: 0.9862\n",
            "Epoch 34/50\n",
            "1313/1313 [==============================] - 6s 5ms/step - loss: 0.0056 - accuracy: 0.9984 - val_loss: 0.1000 - val_accuracy: 0.9869\n",
            "Epoch 35/50\n",
            "1313/1313 [==============================] - 6s 5ms/step - loss: 0.0033 - accuracy: 0.9988 - val_loss: 0.1219 - val_accuracy: 0.9862\n",
            "Epoch 36/50\n",
            "1313/1313 [==============================] - 7s 5ms/step - loss: 0.0047 - accuracy: 0.9984 - val_loss: 0.1163 - val_accuracy: 0.9876\n",
            "Epoch 37/50\n",
            "1313/1313 [==============================] - 7s 5ms/step - loss: 0.0060 - accuracy: 0.9983 - val_loss: 0.1139 - val_accuracy: 0.9880\n",
            "Epoch 38/50\n",
            "1313/1313 [==============================] - 6s 5ms/step - loss: 0.0051 - accuracy: 0.9987 - val_loss: 0.1280 - val_accuracy: 0.9867\n",
            "Epoch 39/50\n",
            "1313/1313 [==============================] - 6s 5ms/step - loss: 0.0047 - accuracy: 0.9984 - val_loss: 0.1340 - val_accuracy: 0.9861\n",
            "Epoch 40/50\n",
            "1313/1313 [==============================] - 6s 5ms/step - loss: 0.0055 - accuracy: 0.9987 - val_loss: 0.1277 - val_accuracy: 0.9861\n",
            "Epoch 41/50\n",
            "1313/1313 [==============================] - 6s 5ms/step - loss: 0.0084 - accuracy: 0.9977 - val_loss: 0.1250 - val_accuracy: 0.9862\n",
            "Epoch 42/50\n",
            "1313/1313 [==============================] - 6s 5ms/step - loss: 0.0048 - accuracy: 0.9987 - val_loss: 0.1320 - val_accuracy: 0.9874\n",
            "Epoch 43/50\n",
            "1313/1313 [==============================] - 6s 5ms/step - loss: 0.0048 - accuracy: 0.9988 - val_loss: 0.1463 - val_accuracy: 0.9859\n",
            "Epoch 44/50\n",
            "1313/1313 [==============================] - 6s 5ms/step - loss: 0.0074 - accuracy: 0.9982 - val_loss: 0.1139 - val_accuracy: 0.9873\n",
            "Epoch 45/50\n",
            "1313/1313 [==============================] - 6s 5ms/step - loss: 0.0018 - accuracy: 0.9994 - val_loss: 0.1522 - val_accuracy: 0.9839\n",
            "Epoch 46/50\n",
            "1313/1313 [==============================] - 6s 5ms/step - loss: 0.0046 - accuracy: 0.9985 - val_loss: 0.1471 - val_accuracy: 0.9872\n",
            "Epoch 47/50\n",
            "1313/1313 [==============================] - 6s 5ms/step - loss: 0.0050 - accuracy: 0.9986 - val_loss: 0.1505 - val_accuracy: 0.9853\n",
            "Epoch 48/50\n",
            "1313/1313 [==============================] - 6s 5ms/step - loss: 0.0068 - accuracy: 0.9983 - val_loss: 0.1353 - val_accuracy: 0.9869\n",
            "Epoch 49/50\n",
            "1313/1313 [==============================] - 6s 5ms/step - loss: 0.0025 - accuracy: 0.9991 - val_loss: 0.1391 - val_accuracy: 0.9864\n",
            "Epoch 50/50\n",
            "1313/1313 [==============================] - 6s 5ms/step - loss: 0.0049 - accuracy: 0.9986 - val_loss: 0.1547 - val_accuracy: 0.9878\n"
          ],
          "name": "stdout"
        }
      ]
    },
    {
      "cell_type": "code",
      "metadata": {
        "id": "-tUyk5GMWh2S"
      },
      "source": [
        "X_test = x_test.copy().reshape(-1, 28, 28, 1)\n",
        "X_test = X_test/255.0\n",
        "y_test = to_categorical(y_test, num_classes=10)"
      ],
      "execution_count": 16,
      "outputs": []
    },
    {
      "cell_type": "code",
      "metadata": {
        "id": "d6d1Z7vPWwG9"
      },
      "source": [
        "test_acc = model.evaluate(X_test, y_test, verbose=0)"
      ],
      "execution_count": 22,
      "outputs": []
    },
    {
      "cell_type": "code",
      "metadata": {
        "colab": {
          "base_uri": "https://localhost:8080/"
        },
        "id": "rBAUJt_9WyF1",
        "outputId": "b688ec18-25ba-475b-8f95-c0fd09eb0bf1"
      },
      "source": [
        "print(\"accuracy %.3f\" % (test_acc[1]*100))"
      ],
      "execution_count": 29,
      "outputs": [
        {
          "output_type": "stream",
          "text": [
            "accuracy 98.900\n"
          ],
          "name": "stdout"
        }
      ]
    }
  ]
}